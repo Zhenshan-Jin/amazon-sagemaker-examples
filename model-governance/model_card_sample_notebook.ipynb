{
 "cells": [
  {
   "cell_type": "markdown",
   "metadata": {},
   "source": [
    "# Amazon SageMaker Model Governance - Model Card\n",
    "This notebook will walk you through the features in Model Card.\n",
    "\n",
    "SageMaker's model cards give you a centralized, customizable factsheet for a model and are key to model governance. It can store both qualititve(Model Owner, risk rating etc) and quantitive(training, evaluation metrics) about the model. \n",
    "\n",
    "In this example, we will create a simple binary classification model and then store facts of the model within a model card. Additionally, useful model card operations will be presented too, i.e. basic read/update/delete operations, sharing the model card as an exported PDF file, tracking model card editing history.\n",
    "\n",
    "---\n",
    "## Contents\n",
    "\n",
    "1. [Setup](#Setup)\n",
    "1. [Preparing a Binary Classifcation Model](#Model)\n",
    "1. [Create Model Card](#ModelCard)\n",
    "1. [Update Model Card](#Update)\n",
    "1. [Load Model Card](#Load)\n",
    "1. [List Model Card History](#ListHistory)\n",
    "1. [Export Model Card](#Export)\n",
    "1. [Cleanup](#Cleanup)\n",
    "\n",
    "---\n",
    "## Setup\n",
    "Let's start by specifying:\n",
    "- The IAM role ARN used to give training and hosting access to your data. See the documentation for how to create these. The following code will use the SageMaker execution role.\n",
    "- The S3 bucket and prefix to use for training, model and exported model card PDF. This should be within the same region as the Notebook Instance, training, and hosting. The following code will use SageMaker's default S3 bucket (and create one if it doesn't exist).\n",
    "- The S3 client used to download and delete the exported model card PDF.\n",
    "- The sagemaker session used in the model card APIs"
   ]
  },
  {
   "cell_type": "code",
   "execution_count": 24,
   "metadata": {},
   "outputs": [],
   "source": [
    "from sagemaker.session import Session\n",
    "from sagemaker import get_execution_role\n",
    "\n",
    "role = get_execution_role()\n",
    "\n",
    "bucket = sagemaker_session.default_bucket()\n",
    "prefix = \"model-card-sample-notebook\"\n",
    "\n",
    "region = sagemaker_session.boto_region_name\n",
    "s3 = boto3.client(\"s3\", region_name=region)\n",
    "\n",
    "sagemaker_session = Session()"
   ]
  },
  {
   "cell_type": "markdown",
   "metadata": {},
   "source": [
    "Next, we'll import the Python libraries that we'll need for the remainder of the exercise."
   ]
  },
  {
   "cell_type": "code",
   "execution_count": 33,
   "metadata": {},
   "outputs": [],
   "source": [
    "import io\n",
    "import os\n",
    "import numpy as np\n",
    "from six.moves.urllib.parse import urlparse\n",
    "import boto3\n",
    "import sagemaker\n",
    "from sagemaker.image_uris import retrieve\n",
    "import sagemaker.amazon.common as smac\n",
    "from sagemaker.model_card import (\n",
    "    ModelCard,\n",
    "    ModelOverview,\n",
    "    ObjectiveFunction,\n",
    "    Function,\n",
    "    TrainingDetails,\n",
    "    IntendedUses,\n",
    "    EvaluationJob,\n",
    "    AdditionalInformation,\n",
    "    ModelCardStatusEnum,\n",
    "    ObjectiveFunctionEnum,\n",
    "    FacetEnum,\n",
    "    RiskRatingEnum,\n",
    ")"
   ]
  },
  {
   "cell_type": "markdown",
   "metadata": {},
   "source": [
    "---\n",
    "## Preparing a Model<a name=\"Model\"></a>\n",
    "We will create an example model and collect facts of it in the following steps. The binary classification model will be trained on a fake dataset. The target variable is the second one in the tuple. \n",
    "\n",
    "### 1. Prepare the training data\n",
    "The code will upload example data to your S3 bucket."
   ]
  },
  {
   "cell_type": "code",
   "execution_count": 34,
   "metadata": {},
   "outputs": [],
   "source": [
    "raw_data = (\n",
    "    (0.5, 0),  (0.75, 0), (1.0, 0),  (1.25, 0), (1.50, 0),\n",
    "    (1.75, 0), (2.0, 0),  (2.25, 1), (2.5, 0),  (2.75, 1),\n",
    "    (3.0, 0),  (3.25, 1), (3.5, 0),  (4.0, 1),  (4.25, 1),\n",
    "    (4.5, 1),  (4.75, 1), (5.0, 1),  (5.5, 1),\n",
    ")\n",
    "training_data = np.array(raw_data).astype(\"float32\")\n",
    "labels = training_data[:, 1]\n",
    "\n",
    "buf = io.BytesIO()\n",
    "smac.write_numpy_to_dense_tensor(buf, training_data, labels)\n",
    "buf.seek(0)\n",
    "\n",
    "boto3.resource(\"s3\").Bucket(bucket).Object(os.path.join(prefix, \"train\")).upload_fileobj(\n",
    "    buf\n",
    ")"
   ]
  },
  {
   "cell_type": "markdown",
   "metadata": {},
   "source": [
    "### 2. Train a model\n",
    "Train a binary classification model with the training data from the previous step."
   ]
  },
  {
   "cell_type": "code",
   "execution_count": null,
   "metadata": {},
   "outputs": [],
   "source": [
    "s3_train_data = f\"s3://{bucket}/{prefix}/train\"\n",
    "output_location = f\"s3://{bucket}/{prefix}/output\"\n",
    "container = retrieve(\"linear-learner\", boto3.Session().region_name)\n",
    "estimator = sagemaker.estimator.Estimator(\n",
    "    container,\n",
    "    role=role,\n",
    "    instance_count=1,\n",
    "    instance_type=\"ml.m4.xlarge\",\n",
    "    output_path=output_location,\n",
    "    sagemaker_session=sagemaker_session,\n",
    ")\n",
    "estimator.set_hyperparameters(\n",
    "    feature_dim=2, mini_batch_size=10, predictor_type=\"binary_classifier\"\n",
    ")\n",
    "estimator.fit({\"train\": s3_train_data})"
   ]
  },
  {
   "cell_type": "markdown",
   "metadata": {},
   "source": [
    "### 3. Create an endpoint\n",
    "We use the `deploy()` method on the model to create an endpoint hosting that model."
   ]
  },
  {
   "cell_type": "code",
   "execution_count": null,
   "metadata": {},
   "outputs": [],
   "source": [
    "endpoint_name = \"model-card-example-test\"\n",
    "endpoint = estimator.deploy(\n",
    "    initial_instance_count=1, instance_type=\"ml.m4.xlarge\", endpoint_name=endpoint_name\n",
    ")\n",
    "\n",
    "model_name = endpoint._get_model_names()[0]\n",
    "training_job_name = estimator.latest_training_job.name\n",
    "print(f\"Model name: {model_name}\")\n",
    "print(f\"Training job name: {training_job_name}\")"
   ]
  },
  {
   "cell_type": "markdown",
   "metadata": {},
   "source": [
    "---\n",
    "## Create Model Card<a name=\"ModelCard\"></a>\n",
    "We will start to collect model facts into a model card.\n",
    "\n",
    "### 1. Auto-collect Model Data (Model Overview) for Model Card\n",
    "Automatically collect basic model information like model id, training environment, model output S3 URL. Other model facts could be added like description, problem type, algorithm type, model creator, owner, etc."
   ]
  },
  {
   "cell_type": "code",
   "execution_count": null,
   "metadata": {},
   "outputs": [],
   "source": [
    "model_overview = ModelOverview.from_name(\n",
    "    model_name=model_name,\n",
    "    sagemaker_session=sagemaker_session,\n",
    "    model_description=\"This is a simple binary classification model used for Model Card demo\",\n",
    "    problem_type=\"Binary Classification\",\n",
    "    algorithm_type=\"Logitic Regression\",\n",
    "    model_creator=\"DEMO-ModelCard\",\n",
    "    model_owner=\"DEMO-ModelCard\",\n",
    ")\n",
    "print(model_overview.model_id)\n",
    "print(model_overview.inference_environment.container_image)\n",
    "print(model_overview.model_artifact)"
   ]
  },
  {
   "cell_type": "markdown",
   "metadata": {},
   "source": [
    "### 2. Auto-collect Training Data (Training Details) for Model Card\n",
    "Automatically collect basic training information like training id, training environment, training metrics. Additional training facts could be added like training objective function, observations, etc"
   ]
  },
  {
   "cell_type": "code",
   "execution_count": null,
   "metadata": {},
   "outputs": [],
   "source": [
    "objective_function = ObjectiveFunction(\n",
    "    function=Function(\n",
    "        function=ObjectiveFunctionEnum.MINIMIZE,\n",
    "        facet=FacetEnum.LOSS,\n",
    "    ),\n",
    "    notes=\"This is a example objective function.\",\n",
    ")\n",
    "training_details = TrainingDetails.from_model_overview(\n",
    "    model_overview=model_overview,\n",
    "    sagemaker_session=sagemaker_session,\n",
    "    objective_function=objective_function\n",
    "    training_observations=\"Additional training observations could be put here.\"\n",
    ")\n",
    "print(training_details.training_job_details.training_arn)\n",
    "print(training_details.training_job_details.training_environment.container_image)\n",
    "print([{\"name\": i.name, \"value\": i.value} for i in training_details.training_job_details.training_metrics])"
   ]
  },
  {
   "cell_type": "markdown",
   "metadata": {},
   "source": [
    "### 3. Collect evaluation details\n",
    "Add evaluation observations, datasets, and metrics."
   ]
  },
  {
   "cell_type": "code",
   "execution_count": null,
   "metadata": {},
   "outputs": [],
   "source": [
    "my_metric_group = MetricGroup(\n",
    "    name=\"binary classification metrics\",\n",
    "    metric_data=[Metric(name=\"accuracy\", type=MetricTypeEnum.NUMBER, value=0.5)]\n",
    ")\n",
    "evaluation_details = [\n",
    "    EvaluationJob(\n",
    "        name=\"Example evaluation job\",\n",
    "        evaluation_observation=\"Evaluation observations.\",\n",
    "        datasets=[\"s3://path/to/evaluation/data\"],\n",
    "        metric_groups=[metric_group_example],\n",
    "    )\n",
    "]"
   ]
  },
  {
   "cell_type": "markdown",
   "metadata": {},
   "source": [
    "### 4. Collect other facts"
   ]
  },
  {
   "cell_type": "code",
   "execution_count": null,
   "metadata": {},
   "outputs": [],
   "source": [
    "intended_uses = IntendedUses(\n",
    "    purpose_of_model=\"Test model card.\",\n",
    "    intended_uses=\"Not used except this test.\",\n",
    "    factors_affecting_model_efficiency=\"No.\",\n",
    "    risk_rating=RiskRatingEnum.LOW,\n",
    "    explanations_for_risk_rating=\"Just an example.\",\n",
    ")\n",
    "additional_information = AdditionalInformation(\n",
    "    ethical_considerations=\"You model ethical consideration.\",\n",
    "    caveats_and_recommendations=\"Your model's caveats and recommendations.\",\n",
    "    custom_details={\"custom details1\": \"details value\"},\n",
    ")"
   ]
  },
  {
   "cell_type": "markdown",
   "metadata": {},
   "source": [
    "### 5. Initialize a Model Card\n",
    "Initialize a model card with all the facts collected before."
   ]
  },
  {
   "cell_type": "code",
   "execution_count": null,
   "metadata": {},
   "outputs": [],
   "source": [
    "model_card_name = \"sample-notebook-model-card\"\n",
    "my_card = ModelCard(\n",
    "    name=model_card_name,\n",
    "    status=ModelCardStatusEnum.DRAFT,\n",
    "    model_overview=model_overview,\n",
    "    training_details=training_details,\n",
    "    intended_uses=intended_uses,\n",
    "    evaluation_details=evaluation_details,\n",
    "    additional_information=additional_information,\n",
    "    sagemaker_session=sagemaker_session,\n",
    ")\n",
    "my_card.create()\n",
    "print(f\"Model card {model_card.name} is successfully created with id {model_card.arn}\")"
   ]
  },
  {
   "cell_type": "markdown",
   "metadata": {},
   "source": [
    "---\n",
    "## Update Model Card<a name=\"Update\"></a>"
   ]
  },
  {
   "cell_type": "code",
   "execution_count": null,
   "metadata": {},
   "outputs": [],
   "source": [
    "my_card.model_overview.model_description = \"the model is updated.\"\n",
    "my_card.update()"
   ]
  },
  {
   "cell_type": "markdown",
   "metadata": {},
   "source": [
    "---\n",
    "## Load Model Card<a name=\"Load\"></a>\n",
    "Load an existing model card with the model card name."
   ]
  },
  {
   "cell_type": "code",
   "execution_count": null,
   "metadata": {},
   "outputs": [],
   "source": [
    "my_card2 = ModelCard.load(\n",
    "    name=model_card_name,\n",
    "    sagemaker_session=sagemaker_session,\n",
    ")"
   ]
  },
  {
   "cell_type": "markdown",
   "metadata": {},
   "source": [
    "---\n",
    "## List Model Card History<a name=\"ListHistory\"></a>\n",
    "Track the model card history by listing historical versions."
   ]
  },
  {
   "cell_type": "code",
   "execution_count": null,
   "metadata": {},
   "outputs": [],
   "source": [
    "my_card.get_version_history()"
   ]
  },
  {
   "cell_type": "markdown",
   "metadata": {},
   "source": [
    "---\n",
    "## Export Model Card<a name=\"Export\"></a>\n",
    "Share the model card by exporting it to a PDF file.\n",
    "\n",
    "### 1. Create an export job"
   ]
  },
  {
   "cell_type": "code",
   "execution_count": null,
   "metadata": {},
   "outputs": [],
   "source": [
    "s3_output_path = f\"s3://{bucket}/{prefix}/export\"\n",
    "pdf_s3_url = my_card.export_pdf(s3_output_path=s3_output_path)"
   ]
  },
  {
   "cell_type": "markdown",
   "metadata": {},
   "source": [
    "### (optional) List export jobs\n",
    "Check all the export jobs for this model card."
   ]
  },
  {
   "cell_type": "code",
   "execution_count": null,
   "metadata": {},
   "outputs": [],
   "source": [
    "my_card.list_export_jobs()"
   ]
  },
  {
   "cell_type": "markdown",
   "metadata": {},
   "source": [
    "### 2. Download the exported Model Card PDF\n",
    "The downloaded pdf will be stored in the same directory as this notebook by default.\n",
    "\n",
    "#### Parse the bucket and key of the exported PDF"
   ]
  },
  {
   "cell_type": "code",
   "execution_count": null,
   "metadata": {},
   "outputs": [],
   "source": [
    "parsed_url = urlparse(pdf_s3_url)\n",
    "pdf_bucket = parsed_url.netloc\n",
    "pdf_key = parsed_url.path.lstrip(\"/\")"
   ]
  },
  {
   "cell_type": "markdown",
   "metadata": {},
   "source": [
    "#### Download"
   ]
  },
  {
   "cell_type": "code",
   "execution_count": 10,
   "metadata": {},
   "outputs": [],
   "source": [
    "file_name = parsed_url.path.split(\"/\")[-1]\n",
    "s3.download_file(Filename=file_name, Bucket=pdf_bucket, Key=pdf_key)\n",
    "print(f\"{file_name} is downloaded successfully.\")"
   ]
  },
  {
   "cell_type": "markdown",
   "metadata": {},
   "source": [
    "---\n",
    "## Cleanup<a name=\"Cleanup\"></a>\n",
    "The following resources will be deleted:\n",
    "1. the model card\n",
    "2. exported model card PDF\n",
    "3. binary classification model\n",
    "4. endpoint and also the endpoint_config"
   ]
  },
  {
   "cell_type": "code",
   "execution_count": 48,
   "metadata": {},
   "outputs": [],
   "source": [
    "my_card.delete()\n",
    "\n",
    "s3.delete_object(Bucket=pdf_bucket, Key=pdf_key)\n",
    "\n",
    "endpoint.delete_model()\n",
    "endpoint.delete_endpoint()"
   ]
  }
 ],
 "metadata": {
  "instance_type": "ml.t3.medium",
  "kernelspec": {
   "display_name": "Python 3.10.6 64-bit ('3.10.6')",
   "language": "python",
   "name": "python3"
  },
  "language_info": {
   "codemirror_mode": {
    "name": "ipython",
    "version": 3
   },
   "file_extension": ".py",
   "mimetype": "text/x-python",
   "name": "python",
   "nbconvert_exporter": "python",
   "pygments_lexer": "ipython3",
   "version": "3.10.6"
  },
  "vscode": {
   "interpreter": {
    "hash": "1571133684af95a48d70cfb4aef2840ed1e20d7c2d2a63af1685000148425678"
   }
  }
 },
 "nbformat": 4,
 "nbformat_minor": 4
}
